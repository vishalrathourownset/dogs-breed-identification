{
  "nbformat": 4,
  "nbformat_minor": 0,
  "metadata": {
    "colab": {
      "name": "dog_breed_identification_transfer_learning_vgg16.ipynb",
      "provenance": []
    },
    "kernelspec": {
      "name": "python3",
      "display_name": "Python 3"
    },
    "accelerator": "GPU"
  },
  "cells": [
    {
      "cell_type": "code",
      "metadata": {
        "id": "i4PFKjNcpgxg"
      },
      "source": [
        "%tensorflow_version 2.x"
      ],
      "execution_count": 1,
      "outputs": []
    },
    {
      "cell_type": "code",
      "metadata": {
        "id": "yv42H1CAp4ur"
      },
      "source": [
        "! pip uninstall -y -q kaggle"
      ],
      "execution_count": 2,
      "outputs": []
    },
    {
      "cell_type": "code",
      "metadata": {
        "colab": {
          "base_uri": "https://localhost:8080/"
        },
        "id": "f915mebwp8AZ",
        "outputId": "e177a137-dc59-48b1-cd27-9e74e8b2b64e"
      },
      "source": [
        "pip install --upgrade -q kaggle"
      ],
      "execution_count": 3,
      "outputs": [
        {
          "output_type": "stream",
          "text": [
            "\u001b[?25l\r\u001b[K     |█████▌                          | 10kB 29.1MB/s eta 0:00:01\r\u001b[K     |███████████                     | 20kB 17.4MB/s eta 0:00:01\r\u001b[K     |████████████████▋               | 30kB 14.3MB/s eta 0:00:01\r\u001b[K     |██████████████████████▏         | 40kB 13.0MB/s eta 0:00:01\r\u001b[K     |███████████████████████████▊    | 51kB 8.4MB/s eta 0:00:01\r\u001b[K     |████████████████████████████████| 61kB 5.4MB/s \n",
            "\u001b[?25h  Building wheel for kaggle (setup.py) ... \u001b[?25l\u001b[?25hdone\n"
          ],
          "name": "stdout"
        }
      ]
    },
    {
      "cell_type": "code",
      "metadata": {
        "colab": {
          "base_uri": "https://localhost:8080/"
        },
        "id": "jPHCsQf5p-ra",
        "outputId": "0da5db8c-0347-4f77-8add-d55124019f27"
      },
      "source": [
        "! mkdir -p /root/.kaggle\r\n",
        "! mv kaggle.json /root/.kaggle\r\n",
        "import kaggle"
      ],
      "execution_count": 4,
      "outputs": [
        {
          "output_type": "stream",
          "text": [
            "Warning: Your Kaggle API key is readable by other users on this system! To fix this, you can run 'chmod 600 /root/.kaggle/kaggle.json'\n"
          ],
          "name": "stdout"
        }
      ]
    },
    {
      "cell_type": "code",
      "metadata": {
        "colab": {
          "base_uri": "https://localhost:8080/"
        },
        "id": "LmwbNnbQqHQk",
        "outputId": "9ab2c586-65eb-4a70-aca6-31fab2797aa0"
      },
      "source": [
        "!kaggle competitions download -c dog-breed-identification"
      ],
      "execution_count": 5,
      "outputs": [
        {
          "output_type": "stream",
          "text": [
            "Warning: Your Kaggle API key is readable by other users on this system! To fix this, you can run 'chmod 600 /root/.kaggle/kaggle.json'\n",
            "Downloading dog-breed-identification.zip to /content\n",
            "100% 689M/691M [00:08<00:00, 44.2MB/s]\n",
            "100% 691M/691M [00:08<00:00, 82.8MB/s]\n"
          ],
          "name": "stdout"
        }
      ]
    },
    {
      "cell_type": "code",
      "metadata": {
        "id": "2IDJl-oSqNrv"
      },
      "source": [
        "! unzip -q dog-breed-identification.zip"
      ],
      "execution_count": 6,
      "outputs": []
    },
    {
      "cell_type": "code",
      "metadata": {
        "id": "CGd5RCPUqYYa"
      },
      "source": [
        "import pandas as pd\r\n",
        "import numpy as np\r\n",
        "import matplotlib.pyplot as plt\r\n",
        "labels = pd.read_csv(\"labels.csv\")"
      ],
      "execution_count": 7,
      "outputs": []
    },
    {
      "cell_type": "code",
      "metadata": {
        "colab": {
          "base_uri": "https://localhost:8080/",
          "height": 195
        },
        "id": "caZyNE-yqdDd",
        "outputId": "ae2a6715-a449-4f5f-d8a2-1f555042a86e"
      },
      "source": [
        "labels.head()"
      ],
      "execution_count": 8,
      "outputs": [
        {
          "output_type": "execute_result",
          "data": {
            "text/html": [
              "<div>\n",
              "<style scoped>\n",
              "    .dataframe tbody tr th:only-of-type {\n",
              "        vertical-align: middle;\n",
              "    }\n",
              "\n",
              "    .dataframe tbody tr th {\n",
              "        vertical-align: top;\n",
              "    }\n",
              "\n",
              "    .dataframe thead th {\n",
              "        text-align: right;\n",
              "    }\n",
              "</style>\n",
              "<table border=\"1\" class=\"dataframe\">\n",
              "  <thead>\n",
              "    <tr style=\"text-align: right;\">\n",
              "      <th></th>\n",
              "      <th>id</th>\n",
              "      <th>breed</th>\n",
              "    </tr>\n",
              "  </thead>\n",
              "  <tbody>\n",
              "    <tr>\n",
              "      <th>0</th>\n",
              "      <td>000bec180eb18c7604dcecc8fe0dba07</td>\n",
              "      <td>boston_bull</td>\n",
              "    </tr>\n",
              "    <tr>\n",
              "      <th>1</th>\n",
              "      <td>001513dfcb2ffafc82cccf4d8bbaba97</td>\n",
              "      <td>dingo</td>\n",
              "    </tr>\n",
              "    <tr>\n",
              "      <th>2</th>\n",
              "      <td>001cdf01b096e06d78e9e5112d419397</td>\n",
              "      <td>pekinese</td>\n",
              "    </tr>\n",
              "    <tr>\n",
              "      <th>3</th>\n",
              "      <td>00214f311d5d2247d5dfe4fe24b2303d</td>\n",
              "      <td>bluetick</td>\n",
              "    </tr>\n",
              "    <tr>\n",
              "      <th>4</th>\n",
              "      <td>0021f9ceb3235effd7fcde7f7538ed62</td>\n",
              "      <td>golden_retriever</td>\n",
              "    </tr>\n",
              "  </tbody>\n",
              "</table>\n",
              "</div>"
            ],
            "text/plain": [
              "                                 id             breed\n",
              "0  000bec180eb18c7604dcecc8fe0dba07       boston_bull\n",
              "1  001513dfcb2ffafc82cccf4d8bbaba97             dingo\n",
              "2  001cdf01b096e06d78e9e5112d419397          pekinese\n",
              "3  00214f311d5d2247d5dfe4fe24b2303d          bluetick\n",
              "4  0021f9ceb3235effd7fcde7f7538ed62  golden_retriever"
            ]
          },
          "metadata": {
            "tags": []
          },
          "execution_count": 8
        }
      ]
    },
    {
      "cell_type": "code",
      "metadata": {
        "id": "ImknjXjKqheG"
      },
      "source": [
        "import os"
      ],
      "execution_count": 9,
      "outputs": []
    },
    {
      "cell_type": "code",
      "metadata": {
        "colab": {
          "base_uri": "https://localhost:8080/"
        },
        "id": "S6jH22qoqmWN",
        "outputId": "fedd5921-bbf1-4783-ae2a-7f4edfc92044"
      },
      "source": [
        "os.listdir(\"train\")[:10]"
      ],
      "execution_count": 10,
      "outputs": [
        {
          "output_type": "execute_result",
          "data": {
            "text/plain": [
              "['94af603ff6f83dbc8079a1d315981f5a.jpg',\n",
              " 'b28dd4ec5ad70c3901a54447ef7ec5ab.jpg',\n",
              " 'e86a88391d017cc3807cc9653a4a7290.jpg',\n",
              " 'fab313f7c055d30e79a8590ab05d54f3.jpg',\n",
              " '7645e3e336ea56a3d2acdd258190893a.jpg',\n",
              " 'c7d8a86998c9970e0d398192a016eefe.jpg',\n",
              " '435d09bc47562ab35704c2a10441b562.jpg',\n",
              " '6c370fc5e1b1840570406446d438cec3.jpg',\n",
              " 'a326caecceeed4705ba786f1d8504430.jpg',\n",
              " '70685fef6eaf5cddd4de563cd6b5763c.jpg']"
            ]
          },
          "metadata": {
            "tags": []
          },
          "execution_count": 10
        }
      ]
    },
    {
      "cell_type": "code",
      "metadata": {
        "id": "KEqDbY2Wqoix"
      },
      "source": [
        "labels[\"id\"] = labels[\"id\"] + \".jpg\""
      ],
      "execution_count": 11,
      "outputs": []
    },
    {
      "cell_type": "code",
      "metadata": {
        "colab": {
          "base_uri": "https://localhost:8080/",
          "height": 195
        },
        "id": "BCkk9hPHqsrt",
        "outputId": "a57b7662-052d-4316-badf-b4cd7ee6b193"
      },
      "source": [
        "labels.head()"
      ],
      "execution_count": 12,
      "outputs": [
        {
          "output_type": "execute_result",
          "data": {
            "text/html": [
              "<div>\n",
              "<style scoped>\n",
              "    .dataframe tbody tr th:only-of-type {\n",
              "        vertical-align: middle;\n",
              "    }\n",
              "\n",
              "    .dataframe tbody tr th {\n",
              "        vertical-align: top;\n",
              "    }\n",
              "\n",
              "    .dataframe thead th {\n",
              "        text-align: right;\n",
              "    }\n",
              "</style>\n",
              "<table border=\"1\" class=\"dataframe\">\n",
              "  <thead>\n",
              "    <tr style=\"text-align: right;\">\n",
              "      <th></th>\n",
              "      <th>id</th>\n",
              "      <th>breed</th>\n",
              "    </tr>\n",
              "  </thead>\n",
              "  <tbody>\n",
              "    <tr>\n",
              "      <th>0</th>\n",
              "      <td>000bec180eb18c7604dcecc8fe0dba07.jpg</td>\n",
              "      <td>boston_bull</td>\n",
              "    </tr>\n",
              "    <tr>\n",
              "      <th>1</th>\n",
              "      <td>001513dfcb2ffafc82cccf4d8bbaba97.jpg</td>\n",
              "      <td>dingo</td>\n",
              "    </tr>\n",
              "    <tr>\n",
              "      <th>2</th>\n",
              "      <td>001cdf01b096e06d78e9e5112d419397.jpg</td>\n",
              "      <td>pekinese</td>\n",
              "    </tr>\n",
              "    <tr>\n",
              "      <th>3</th>\n",
              "      <td>00214f311d5d2247d5dfe4fe24b2303d.jpg</td>\n",
              "      <td>bluetick</td>\n",
              "    </tr>\n",
              "    <tr>\n",
              "      <th>4</th>\n",
              "      <td>0021f9ceb3235effd7fcde7f7538ed62.jpg</td>\n",
              "      <td>golden_retriever</td>\n",
              "    </tr>\n",
              "  </tbody>\n",
              "</table>\n",
              "</div>"
            ],
            "text/plain": [
              "                                     id             breed\n",
              "0  000bec180eb18c7604dcecc8fe0dba07.jpg       boston_bull\n",
              "1  001513dfcb2ffafc82cccf4d8bbaba97.jpg             dingo\n",
              "2  001cdf01b096e06d78e9e5112d419397.jpg          pekinese\n",
              "3  00214f311d5d2247d5dfe4fe24b2303d.jpg          bluetick\n",
              "4  0021f9ceb3235effd7fcde7f7538ed62.jpg  golden_retriever"
            ]
          },
          "metadata": {
            "tags": []
          },
          "execution_count": 12
        }
      ]
    },
    {
      "cell_type": "code",
      "metadata": {
        "id": "HTFKdnw2quo-"
      },
      "source": [
        "from tensorflow.keras.preprocessing.image import ImageDataGenerator\r\n",
        "from tensorflow.keras.applications.vgg16 import preprocess_input, decode_predictions\r\n",
        "idg = ImageDataGenerator(preprocessing_function=preprocess_input, horizontal_flip=True, validation_split=0.2)"
      ],
      "execution_count": 13,
      "outputs": []
    },
    {
      "cell_type": "code",
      "metadata": {
        "colab": {
          "base_uri": "https://localhost:8080/"
        },
        "id": "LDmOWAKcqygU",
        "outputId": "37a83eef-4b50-4213-a406-7ec34d167e63"
      },
      "source": [
        "train_idg = idg.flow_from_dataframe(labels, \"train\", x_col=\"id\", y_col=\"breed\", subset=\"training\", target_size=(224, 224))\r\n",
        "val_idg = idg.flow_from_dataframe(labels, \"train\", x_col=\"id\", y_col=\"breed\", subset=\"validation\", target_size=(224, 224))"
      ],
      "execution_count": 14,
      "outputs": [
        {
          "output_type": "stream",
          "text": [
            "Found 8178 validated image filenames belonging to 120 classes.\n",
            "Found 2044 validated image filenames belonging to 120 classes.\n"
          ],
          "name": "stdout"
        }
      ]
    },
    {
      "cell_type": "code",
      "metadata": {
        "id": "npDpKASQq1SC"
      },
      "source": [
        "from tensorflow.keras.applications import VGG16"
      ],
      "execution_count": 15,
      "outputs": []
    },
    {
      "cell_type": "code",
      "metadata": {
        "colab": {
          "base_uri": "https://localhost:8080/"
        },
        "id": "6K4XEfSBq4Mm",
        "outputId": "62646b97-a79b-4018-b98f-7e72b02b18f7"
      },
      "source": [
        "tf_model = VGG16(include_top=True)"
      ],
      "execution_count": 16,
      "outputs": [
        {
          "output_type": "stream",
          "text": [
            "Downloading data from https://storage.googleapis.com/tensorflow/keras-applications/vgg16/vgg16_weights_tf_dim_ordering_tf_kernels.h5\n",
            "553467904/553467096 [==============================] - 5s 0us/step\n"
          ],
          "name": "stdout"
        }
      ]
    },
    {
      "cell_type": "code",
      "metadata": {
        "colab": {
          "base_uri": "https://localhost:8080/"
        },
        "id": "3NkpK2Baq79n",
        "outputId": "cc667509-4046-4beb-e768-03d2e17e0936"
      },
      "source": [
        "tf_model.summary()"
      ],
      "execution_count": 17,
      "outputs": [
        {
          "output_type": "stream",
          "text": [
            "Model: \"vgg16\"\n",
            "_________________________________________________________________\n",
            "Layer (type)                 Output Shape              Param #   \n",
            "=================================================================\n",
            "input_1 (InputLayer)         [(None, 224, 224, 3)]     0         \n",
            "_________________________________________________________________\n",
            "block1_conv1 (Conv2D)        (None, 224, 224, 64)      1792      \n",
            "_________________________________________________________________\n",
            "block1_conv2 (Conv2D)        (None, 224, 224, 64)      36928     \n",
            "_________________________________________________________________\n",
            "block1_pool (MaxPooling2D)   (None, 112, 112, 64)      0         \n",
            "_________________________________________________________________\n",
            "block2_conv1 (Conv2D)        (None, 112, 112, 128)     73856     \n",
            "_________________________________________________________________\n",
            "block2_conv2 (Conv2D)        (None, 112, 112, 128)     147584    \n",
            "_________________________________________________________________\n",
            "block2_pool (MaxPooling2D)   (None, 56, 56, 128)       0         \n",
            "_________________________________________________________________\n",
            "block3_conv1 (Conv2D)        (None, 56, 56, 256)       295168    \n",
            "_________________________________________________________________\n",
            "block3_conv2 (Conv2D)        (None, 56, 56, 256)       590080    \n",
            "_________________________________________________________________\n",
            "block3_conv3 (Conv2D)        (None, 56, 56, 256)       590080    \n",
            "_________________________________________________________________\n",
            "block3_pool (MaxPooling2D)   (None, 28, 28, 256)       0         \n",
            "_________________________________________________________________\n",
            "block4_conv1 (Conv2D)        (None, 28, 28, 512)       1180160   \n",
            "_________________________________________________________________\n",
            "block4_conv2 (Conv2D)        (None, 28, 28, 512)       2359808   \n",
            "_________________________________________________________________\n",
            "block4_conv3 (Conv2D)        (None, 28, 28, 512)       2359808   \n",
            "_________________________________________________________________\n",
            "block4_pool (MaxPooling2D)   (None, 14, 14, 512)       0         \n",
            "_________________________________________________________________\n",
            "block5_conv1 (Conv2D)        (None, 14, 14, 512)       2359808   \n",
            "_________________________________________________________________\n",
            "block5_conv2 (Conv2D)        (None, 14, 14, 512)       2359808   \n",
            "_________________________________________________________________\n",
            "block5_conv3 (Conv2D)        (None, 14, 14, 512)       2359808   \n",
            "_________________________________________________________________\n",
            "block5_pool (MaxPooling2D)   (None, 7, 7, 512)         0         \n",
            "_________________________________________________________________\n",
            "flatten (Flatten)            (None, 25088)             0         \n",
            "_________________________________________________________________\n",
            "fc1 (Dense)                  (None, 4096)              102764544 \n",
            "_________________________________________________________________\n",
            "fc2 (Dense)                  (None, 4096)              16781312  \n",
            "_________________________________________________________________\n",
            "predictions (Dense)          (None, 1000)              4097000   \n",
            "=================================================================\n",
            "Total params: 138,357,544\n",
            "Trainable params: 138,357,544\n",
            "Non-trainable params: 0\n",
            "_________________________________________________________________\n"
          ],
          "name": "stdout"
        }
      ]
    },
    {
      "cell_type": "code",
      "metadata": {
        "colab": {
          "base_uri": "https://localhost:8080/"
        },
        "id": "cME81AhYrBO9",
        "outputId": "6f535014-da48-4313-eb23-04ba46072bf3"
      },
      "source": [
        "for layer in tf_model.layers:\r\n",
        "  layer.trainable = False\r\n",
        "  print(layer, layer.trainable)"
      ],
      "execution_count": 18,
      "outputs": [
        {
          "output_type": "stream",
          "text": [
            "<tensorflow.python.keras.engine.input_layer.InputLayer object at 0x7fb8e341d048> False\n",
            "<tensorflow.python.keras.layers.convolutional.Conv2D object at 0x7fb8e35f7828> False\n",
            "<tensorflow.python.keras.layers.convolutional.Conv2D object at 0x7fb8e35f46a0> False\n",
            "<tensorflow.python.keras.layers.pooling.MaxPooling2D object at 0x7fb8e35f6ba8> False\n",
            "<tensorflow.python.keras.layers.convolutional.Conv2D object at 0x7fb8b06ffa90> False\n",
            "<tensorflow.python.keras.layers.convolutional.Conv2D object at 0x7fb8a8f91e10> False\n",
            "<tensorflow.python.keras.layers.pooling.MaxPooling2D object at 0x7fb8a7f3c630> False\n",
            "<tensorflow.python.keras.layers.convolutional.Conv2D object at 0x7fb8a7f40588> False\n",
            "<tensorflow.python.keras.layers.convolutional.Conv2D object at 0x7fb8a7f40be0> False\n",
            "<tensorflow.python.keras.layers.convolutional.Conv2D object at 0x7fb8a7f47a20> False\n",
            "<tensorflow.python.keras.layers.pooling.MaxPooling2D object at 0x7fb8a7f4fd68> False\n",
            "<tensorflow.python.keras.layers.convolutional.Conv2D object at 0x7fb8a0111e80> False\n",
            "<tensorflow.python.keras.layers.convolutional.Conv2D object at 0x7fb8a01110f0> False\n",
            "<tensorflow.python.keras.layers.convolutional.Conv2D object at 0x7fb8e35f67f0> False\n",
            "<tensorflow.python.keras.layers.pooling.MaxPooling2D object at 0x7fb8a0120f60> False\n",
            "<tensorflow.python.keras.layers.convolutional.Conv2D object at 0x7fb8a01200f0> False\n",
            "<tensorflow.python.keras.layers.convolutional.Conv2D object at 0x7fb8a7f47f98> False\n",
            "<tensorflow.python.keras.layers.convolutional.Conv2D object at 0x7fb8a012b9b0> False\n",
            "<tensorflow.python.keras.layers.pooling.MaxPooling2D object at 0x7fb8a01343c8> False\n",
            "<tensorflow.python.keras.layers.core.Flatten object at 0x7fb8a0125518> False\n",
            "<tensorflow.python.keras.layers.core.Dense object at 0x7fb8a011ae80> False\n",
            "<tensorflow.python.keras.layers.core.Dense object at 0x7fb8b1f8a780> False\n",
            "<tensorflow.python.keras.layers.core.Dense object at 0x7fb8a0144a20> False\n"
          ],
          "name": "stdout"
        }
      ]
    },
    {
      "cell_type": "code",
      "metadata": {
        "id": "twz5MpqVrI4i"
      },
      "source": [
        "from tensorflow.keras.layers import Dense, Dropout, BatchNormalization\r\n",
        "from tensorflow.keras.losses import categorical_crossentropy\r\n",
        "from tensorflow.keras.optimizers import SGD, Adagrad, RMSprop\r\n",
        "from tensorflow.keras.activations import softmax\r\n",
        "from tensorflow.keras.models import Model"
      ],
      "execution_count": 19,
      "outputs": []
    },
    {
      "cell_type": "code",
      "metadata": {
        "id": "MvYK1BeyrUSy"
      },
      "source": [
        "x = tf_model.layers[-2].output\r\n",
        "x = BatchNormalization(trainable=False) (x)\r\n",
        "x = Dropout(0.5) (x)\r\n",
        "x = Dense(120, activation=\"softmax\") (x)"
      ],
      "execution_count": 20,
      "outputs": []
    },
    {
      "cell_type": "code",
      "metadata": {
        "colab": {
          "base_uri": "https://localhost:8080/"
        },
        "id": "QWpC6ShFrYR1",
        "outputId": "7303447e-d6c0-4496-8bfc-c2a13701a736"
      },
      "source": [
        "final_model = Model(inputs=tf_model.input, outputs=x)\r\n",
        "final_model.summary()"
      ],
      "execution_count": 21,
      "outputs": [
        {
          "output_type": "stream",
          "text": [
            "Model: \"model\"\n",
            "_________________________________________________________________\n",
            "Layer (type)                 Output Shape              Param #   \n",
            "=================================================================\n",
            "input_1 (InputLayer)         [(None, 224, 224, 3)]     0         \n",
            "_________________________________________________________________\n",
            "block1_conv1 (Conv2D)        (None, 224, 224, 64)      1792      \n",
            "_________________________________________________________________\n",
            "block1_conv2 (Conv2D)        (None, 224, 224, 64)      36928     \n",
            "_________________________________________________________________\n",
            "block1_pool (MaxPooling2D)   (None, 112, 112, 64)      0         \n",
            "_________________________________________________________________\n",
            "block2_conv1 (Conv2D)        (None, 112, 112, 128)     73856     \n",
            "_________________________________________________________________\n",
            "block2_conv2 (Conv2D)        (None, 112, 112, 128)     147584    \n",
            "_________________________________________________________________\n",
            "block2_pool (MaxPooling2D)   (None, 56, 56, 128)       0         \n",
            "_________________________________________________________________\n",
            "block3_conv1 (Conv2D)        (None, 56, 56, 256)       295168    \n",
            "_________________________________________________________________\n",
            "block3_conv2 (Conv2D)        (None, 56, 56, 256)       590080    \n",
            "_________________________________________________________________\n",
            "block3_conv3 (Conv2D)        (None, 56, 56, 256)       590080    \n",
            "_________________________________________________________________\n",
            "block3_pool (MaxPooling2D)   (None, 28, 28, 256)       0         \n",
            "_________________________________________________________________\n",
            "block4_conv1 (Conv2D)        (None, 28, 28, 512)       1180160   \n",
            "_________________________________________________________________\n",
            "block4_conv2 (Conv2D)        (None, 28, 28, 512)       2359808   \n",
            "_________________________________________________________________\n",
            "block4_conv3 (Conv2D)        (None, 28, 28, 512)       2359808   \n",
            "_________________________________________________________________\n",
            "block4_pool (MaxPooling2D)   (None, 14, 14, 512)       0         \n",
            "_________________________________________________________________\n",
            "block5_conv1 (Conv2D)        (None, 14, 14, 512)       2359808   \n",
            "_________________________________________________________________\n",
            "block5_conv2 (Conv2D)        (None, 14, 14, 512)       2359808   \n",
            "_________________________________________________________________\n",
            "block5_conv3 (Conv2D)        (None, 14, 14, 512)       2359808   \n",
            "_________________________________________________________________\n",
            "block5_pool (MaxPooling2D)   (None, 7, 7, 512)         0         \n",
            "_________________________________________________________________\n",
            "flatten (Flatten)            (None, 25088)             0         \n",
            "_________________________________________________________________\n",
            "fc1 (Dense)                  (None, 4096)              102764544 \n",
            "_________________________________________________________________\n",
            "fc2 (Dense)                  (None, 4096)              16781312  \n",
            "_________________________________________________________________\n",
            "batch_normalization (BatchNo (None, 4096)              16384     \n",
            "_________________________________________________________________\n",
            "dropout (Dropout)            (None, 4096)              0         \n",
            "_________________________________________________________________\n",
            "dense (Dense)                (None, 120)               491640    \n",
            "=================================================================\n",
            "Total params: 134,768,568\n",
            "Trainable params: 491,640\n",
            "Non-trainable params: 134,276,928\n",
            "_________________________________________________________________\n"
          ],
          "name": "stdout"
        }
      ]
    },
    {
      "cell_type": "code",
      "metadata": {
        "id": "WdRN4XGVrbD3"
      },
      "source": [
        "final_model.compile(SGD(learning_rate=0.001), categorical_crossentropy, [\"acc\"])"
      ],
      "execution_count": 22,
      "outputs": []
    },
    {
      "cell_type": "code",
      "metadata": {
        "colab": {
          "base_uri": "https://localhost:8080/"
        },
        "id": "o40ACbujrkUl",
        "outputId": "4ba32534-96f5-46dd-ba79-7808d09c49af"
      },
      "source": [
        "final_model.fit_generator(train_idg, validation_data=val_idg, epochs=10)"
      ],
      "execution_count": 23,
      "outputs": [
        {
          "output_type": "stream",
          "text": [
            "/usr/local/lib/python3.6/dist-packages/tensorflow/python/keras/engine/training.py:1844: UserWarning: `Model.fit_generator` is deprecated and will be removed in a future version. Please use `Model.fit`, which supports generators.\n",
            "  warnings.warn('`Model.fit_generator` is deprecated and '\n"
          ],
          "name": "stderr"
        },
        {
          "output_type": "stream",
          "text": [
            "Epoch 1/10\n",
            "256/256 [==============================] - 61s 205ms/step - loss: 6.9663 - acc: 0.0387 - val_loss: 2.5260 - val_acc: 0.3894\n",
            "Epoch 2/10\n",
            "256/256 [==============================] - 50s 196ms/step - loss: 3.5567 - acc: 0.2513 - val_loss: 1.6652 - val_acc: 0.5548\n",
            "Epoch 3/10\n",
            "256/256 [==============================] - 51s 198ms/step - loss: 2.5695 - acc: 0.4007 - val_loss: 1.3702 - val_acc: 0.6159\n",
            "Epoch 4/10\n",
            "256/256 [==============================] - 51s 199ms/step - loss: 2.0869 - acc: 0.4900 - val_loss: 1.2463 - val_acc: 0.6477\n",
            "Epoch 5/10\n",
            "256/256 [==============================] - 51s 200ms/step - loss: 1.7952 - acc: 0.5383 - val_loss: 1.1766 - val_acc: 0.6580\n",
            "Epoch 6/10\n",
            "256/256 [==============================] - 51s 200ms/step - loss: 1.6800 - acc: 0.5624 - val_loss: 1.1205 - val_acc: 0.6722\n",
            "Epoch 7/10\n",
            "256/256 [==============================] - 51s 200ms/step - loss: 1.5945 - acc: 0.5898 - val_loss: 1.0919 - val_acc: 0.6879\n",
            "Epoch 8/10\n",
            "256/256 [==============================] - 51s 199ms/step - loss: 1.4397 - acc: 0.6186 - val_loss: 1.0647 - val_acc: 0.6908\n",
            "Epoch 9/10\n",
            "256/256 [==============================] - 51s 199ms/step - loss: 1.3353 - acc: 0.6340 - val_loss: 1.0617 - val_acc: 0.6884\n",
            "Epoch 10/10\n",
            "256/256 [==============================] - 51s 199ms/step - loss: 1.3201 - acc: 0.6480 - val_loss: 1.0482 - val_acc: 0.6893\n"
          ],
          "name": "stdout"
        },
        {
          "output_type": "execute_result",
          "data": {
            "text/plain": [
              "<tensorflow.python.keras.callbacks.History at 0x7fb8a0030d68>"
            ]
          },
          "metadata": {
            "tags": []
          },
          "execution_count": 23
        }
      ]
    },
    {
      "cell_type": "code",
      "metadata": {
        "colab": {
          "base_uri": "https://localhost:8080/"
        },
        "id": "8giqVw3Irm-u",
        "outputId": "bfd0fe75-5b06-4132-fe9f-967f803dc699"
      },
      "source": [
        "! wget https://s3.amazonaws.com/cdn-origin-etr.akc.org/wp-content/uploads/2017/11/20113314/Carolina-Dog-standing-outdoors.jpg"
      ],
      "execution_count": 24,
      "outputs": [
        {
          "output_type": "stream",
          "text": [
            "--2020-12-29 08:58:22--  https://s3.amazonaws.com/cdn-origin-etr.akc.org/wp-content/uploads/2017/11/20113314/Carolina-Dog-standing-outdoors.jpg\n",
            "Resolving s3.amazonaws.com (s3.amazonaws.com)... 52.217.68.110\n",
            "Connecting to s3.amazonaws.com (s3.amazonaws.com)|52.217.68.110|:443... connected.\n",
            "HTTP request sent, awaiting response... 200 OK\n",
            "Length: 59481 (58K) [image/jpeg]\n",
            "Saving to: ‘Carolina-Dog-standing-outdoors.jpg’\n",
            "\n",
            "Carolina-Dog-standi 100%[===================>]  58.09K  --.-KB/s    in 0.1s    \n",
            "\n",
            "2020-12-29 08:58:22 (458 KB/s) - ‘Carolina-Dog-standing-outdoors.jpg’ saved [59481/59481]\n",
            "\n"
          ],
          "name": "stdout"
        }
      ]
    },
    {
      "cell_type": "code",
      "metadata": {
        "id": "kTyfJ7DruD6U"
      },
      "source": [
        "import cv2\r\n",
        "import numpy as np "
      ],
      "execution_count": 29,
      "outputs": []
    },
    {
      "cell_type": "code",
      "metadata": {
        "colab": {
          "base_uri": "https://localhost:8080/"
        },
        "id": "nwp7p1lswjSI",
        "outputId": "8b80eb42-ed06-4ce9-f2fd-773f96ef4402"
      },
      "source": [
        "! wget https://static.toiimg.com/thumb/msid-60132235,imgsize-169468,width-800,height-600,resizemode-75/60132235.jpg"
      ],
      "execution_count": 36,
      "outputs": [
        {
          "output_type": "stream",
          "text": [
            "--2020-12-29 09:09:20--  https://static.toiimg.com/thumb/msid-60132235,imgsize-169468,width-800,height-600,resizemode-75/60132235.jpg\n",
            "Resolving static.toiimg.com (static.toiimg.com)... 184.86.193.96, 2600:1409:a:38f::216f, 2600:1409:a:389::216f\n",
            "Connecting to static.toiimg.com (static.toiimg.com)|184.86.193.96|:443... connected.\n",
            "HTTP request sent, awaiting response... 200 OK\n",
            "Length: 38667 (38K) [image/jpeg]\n",
            "Saving to: ‘60132235.jpg’\n",
            "\n",
            "\r60132235.jpg          0%[                    ]       0  --.-KB/s               \r60132235.jpg        100%[===================>]  37.76K  --.-KB/s    in 0.007s  \n",
            "\n",
            "2020-12-29 09:09:20 (5.62 MB/s) - ‘60132235.jpg’ saved [38667/38667]\n",
            "\n"
          ],
          "name": "stdout"
        }
      ]
    },
    {
      "cell_type": "code",
      "metadata": {
        "id": "C9ndXCHuucO3"
      },
      "source": [
        "def _predict(img):\r\n",
        "  test_image = cv2.imread(img)\r\n",
        "  test_image = cv2.resize(test_image, (224, 224))\r\n",
        "  test_image = preprocess_input(test_image)\r\n",
        "  test_image = np.expand_dims(test_image, axis=0)\r\n",
        "  result = np.argmax(final_model.predict(test_image))\r\n",
        "  rs_td = labels['breed'][result]\r\n",
        "  return rs_td"
      ],
      "execution_count": 44,
      "outputs": []
    },
    {
      "cell_type": "code",
      "metadata": {
        "colab": {
          "base_uri": "https://localhost:8080/",
          "height": 35
        },
        "id": "3mFtppVyxh4i",
        "outputId": "975e689f-4fa8-4f9b-bdab-8571220933ff"
      },
      "source": [
        "_predict('60132235.jpg')"
      ],
      "execution_count": 45,
      "outputs": [
        {
          "output_type": "execute_result",
          "data": {
            "application/vnd.google.colaboratory.intrinsic+json": {
              "type": "string"
            },
            "text/plain": [
              "'walker_hound'"
            ]
          },
          "metadata": {
            "tags": []
          },
          "execution_count": 45
        }
      ]
    },
    {
      "cell_type": "code",
      "metadata": {
        "colab": {
          "base_uri": "https://localhost:8080/",
          "height": 35
        },
        "id": "11uF1fT5xoDq",
        "outputId": "b8c0363e-4e90-4f6b-fb04-927235d48b9e"
      },
      "source": [
        "_predict('Carolina-Dog-standing-outdoors.jpg')"
      ],
      "execution_count": 46,
      "outputs": [
        {
          "output_type": "execute_result",
          "data": {
            "application/vnd.google.colaboratory.intrinsic+json": {
              "type": "string"
            },
            "text/plain": [
              "'giant_schnauzer'"
            ]
          },
          "metadata": {
            "tags": []
          },
          "execution_count": 46
        }
      ]
    },
    {
      "cell_type": "code",
      "metadata": {
        "id": "Dvpj2jvFxugg"
      },
      "source": [
        ""
      ],
      "execution_count": null,
      "outputs": []
    }
  ]
}